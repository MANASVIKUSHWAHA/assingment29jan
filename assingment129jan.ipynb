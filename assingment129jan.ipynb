{
 "cells": [
  {
   "cell_type": "code",
   "execution_count": null,
   "id": "6d026bd4-d976-4612-bf24-f2812548f1f0",
   "metadata": {},
   "outputs": [],
   "source": [
    "#q1. guido van rossum\n",
    "#q2.object orienyed and zstructured\n",
    "#q3.yes\n",
    "#q4.py\n",
    "#q5. intrepreted\n",
    "#q6 . indentation\n",
    "#q7.#\n",
    "#q8sys.version"
   ]
  },
  {
   "cell_type": "code",
   "execution_count": null,
   "id": "08ca070f-1ed8-49d2-8402-98e3b82ae0b3",
   "metadata": {},
   "outputs": [],
   "source": [
    "9.sys.version"
   ]
  },
  {
   "cell_type": "code",
   "execution_count": null,
   "id": "c0181c04-1deb-41fe-a86d-34901240a64d",
   "metadata": {},
   "outputs": [],
   "source": [
    "10.lambda\n"
   ]
  },
  {
   "cell_type": "code",
   "execution_count": null,
   "id": "80d968a0-59ec-40d8-b07d-8a6c65303b99",
   "metadata": {},
   "outputs": [],
   "source": [
    "11.preferred installer program"
   ]
  },
  {
   "cell_type": "code",
   "execution_count": null,
   "id": "50cb9ed9-2c9f-489c-a072-523a4aa393ea",
   "metadata": {},
   "outputs": [],
   "source": [
    "12.built in functions in python:\n",
    "    list() lens() count() int()"
   ]
  },
  {
   "cell_type": "code",
   "execution_count": null,
   "id": "ee340b9e-52ea-4f1d-808b-323e8a14f5e3",
   "metadata": {},
   "outputs": [],
   "source": [
    "13.79 characters\n"
   ]
  },
  {
   "cell_type": "code",
   "execution_count": null,
   "id": "43851fe3-10f2-4b1a-88fd-d6635866d620",
   "metadata": {},
   "outputs": [],
   "source": [
    "14.easy to learn the language \n",
    "and have very high benifits"
   ]
  },
  {
   "cell_type": "code",
   "execution_count": null,
   "id": "e8fb1d3f-d024-4212-b452-e33154a3dc9e",
   "metadata": {},
   "outputs": [],
   "source": [
    "Q16 yes"
   ]
  },
  {
   "cell_type": "code",
   "execution_count": null,
   "id": "4553af8b-2f5d-47c4-8258-b37a761150bc",
   "metadata": {},
   "outputs": [],
   "source": [
    "15.dynamic memory , managed by heap data structure\n"
   ]
  },
  {
   "cell_type": "code",
   "execution_count": null,
   "id": "20d8fce8-6857-4ab8-84a7-04fba66694cd",
   "metadata": {},
   "outputs": [],
   "source": [
    "Path will be set for executing Python programs.\n",
    "Right click on My Computer and click on properties.\n",
    "Click on Advanced System settings. ...\n",
    "Click on Environment Variable tab. ...\n",
    "Click on new tab of user variables.\n",
    "Write path in variable name.\n",
    "Copy the path of Python folder.\n",
    "Paste path of Python in variable valu"
   ]
  }
 ],
 "metadata": {
  "kernelspec": {
   "display_name": "Python 3 (ipykernel)",
   "language": "python",
   "name": "python3"
  },
  "language_info": {
   "codemirror_mode": {
    "name": "ipython",
    "version": 3
   },
   "file_extension": ".py",
   "mimetype": "text/x-python",
   "name": "python",
   "nbconvert_exporter": "python",
   "pygments_lexer": "ipython3",
   "version": "3.10.8"
  }
 },
 "nbformat": 4,
 "nbformat_minor": 5
}
